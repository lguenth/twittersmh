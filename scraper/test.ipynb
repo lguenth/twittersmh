{
 "cells": [
  {
   "cell_type": "code",
   "execution_count": 19,
   "metadata": {},
   "outputs": [],
   "source": [
    "#!/usr/bin/env python3\n",
    "\n",
    "import tweepy\n",
    "import pandas as pd\n",
    "from time import sleep\n",
    "from credentials import bearer_token\n",
    "\n",
    "# https://developer.twitter.com/en/docs/twitter-api/conversation-id\n",
    "\n",
    "client = tweepy.Client(\n",
    "    bearer_token=bearer_token,\n",
    "    wait_on_rate_limit=True,\n",
    ")\n",
    "\n",
    "corpus = \"/home/lukel/projekte/twittersmh/data/tweepy_corpus_de_cleaned.csv\"\n",
    "\n",
    "corpus_df = pd.read_csv(\n",
    "    corpus,\n",
    "    sep=\";\",\n",
    "    dtype=object,\n",
    "    header=0,\n",
    "    names=[\n",
    "        'created_at',\n",
    "        'text_clean',\n",
    "        'author_id',\n",
    "        'hashtags',\n",
    "        'mentions',\n",
    "        'emojis',\n",
    "        'urls',\n",
    "        'public_metrics',\n",
    "        'tweet_id',\n",
    "        'conversation_id',\n",
    "        'referenced_tweets',\n",
    "        'entities',\n",
    "        'day',\n",
    "        'time',\n",
    "        'text_raw',\n",
    "    ],\n",
    ")\n",
    "\n",
    "tweet_fields = [\n",
    "    \"id\",\n",
    "    \"text\",\n",
    "    \"author_id\",\n",
    "    \"conversation_id\",\n",
    "    \"created_at\",\n",
    "    \"entities\",\n",
    "    \"geo\",\n",
    "    \"lang\",\n",
    "    \"in_reply_to_user_id\",\n",
    "    \"referenced_tweets\",\n",
    "    \"public_metrics\",\n",
    "]\n",
    "\n",
    "user_fields = [\n",
    "    \"id\",\n",
    "    \"name\",\n",
    "    \"username\",\n",
    "]"
   ]
  },
  {
   "cell_type": "code",
   "execution_count": null,
   "metadata": {},
   "outputs": [],
   "source": [
    "queries = [f\"conversation_id:{conversation_id} lang:de #ichbinsophiescholl\" for conversation_id in corpus_df[\"conversation_id\"]]\n",
    "queries = list(set(queries))\n",
    "query = queries[0]\n",
    "# by_id = corpus_df.groupby([\"conversation_id\"])\n",
    "# by_id.head()\n",
    "\n",
    "def get_response(query):\n",
    "    response = tweepy.Paginator(\n",
    "        client.search_all_tweets,\n",
    "        query=query,\n",
    "        start_time=\"2021-01-01T00:00:00+00:00\",\n",
    "        tweet_fields=tweet_fields,\n",
    "        user_fields=user_fields,\n",
    "    )\n",
    "    return response\n",
    "\n",
    "count = 1\n",
    "for response in responses:\n",
    "    for tweet in response:\n",
    "\n",
    "        if tweet.data.id:\n",
    "            tweet_id = tweet.data.id\n",
    "        if tweet.data.conversation_id:\n",
    "            conversation_id = tweet.data.conversation_id\n",
    "        if tweet.data.author_id:\n",
    "            author_id = tweet.data.author_id\n",
    "        if tweet.data.entities:\n",
    "            entities = tweet.data.entities\n",
    "        if tweet.data.public_metrics:\n",
    "            public_metrics = tweet.data.public_metrics\n",
    "        if tweet.data.text:\n",
    "            text = tweet.data.text\n",
    "        if tweet.data.lang:\n",
    "            lang = tweet.data.lang\n",
    "        if tweet.data.referenced_tweets:\n",
    "            referenced_tweets = tweet.data.referenced_tweets\n",
    "        if tweet.data.created_at:\n",
    "            created_at = tweet.data.created_at\n",
    "\n",
    "        line = {\n",
    "            \"created_at\": created_at,\n",
    "            \"tweet_id\": tweet_id,\n",
    "            \"text\": text,\n",
    "            \"conversation_id\": conversation_id,\n",
    "            \"author_id\": author_id,\n",
    "            \"entities\": entities,\n",
    "            \"public_metrics\": public_metrics,\n",
    "            \"referenced_tweets\": referenced_tweets,\n",
    "            \"lang\": lang,\n",
    "        }\n",
    "\n",
    "        threads.append(line)\n",
    "        print(count)\n",
    "        print(line)\n",
    "\n",
    "    count += 1\n",
    "    print(\"Sleeping...\")\n",
    "    sleep(1)\n",
    "\n",
    "# response_df = pd.DataFrame(, columns=[\"query\", \"response\"])\n",
    "# response_df.to_csv(f\"/home/lukel/projekte/twittersmh/data/threads/tweepy_corpus_de_thread_{count}\")\n",
    "# count += 1"
   ]
  },
  {
   "cell_type": "code",
   "execution_count": 55,
   "metadata": {},
   "outputs": [
    {
     "name": "stderr",
     "output_type": "stream",
     "text": [
      "Rate limit exceeded. Sleeping for 551 seconds.\n"
     ]
    },
    {
     "name": "stdout",
     "output_type": "stream",
     "text": [
      "None\n"
     ]
    },
    {
     "ename": "KeyboardInterrupt",
     "evalue": "",
     "output_type": "error",
     "traceback": [
      "\u001b[0;31m---------------------------------------------------------------------------\u001b[0m",
      "\u001b[0;31mKeyboardInterrupt\u001b[0m                         Traceback (most recent call last)",
      "\u001b[0;32m/tmp/ipykernel_18598/2860951434.py\u001b[0m in \u001b[0;36m<module>\u001b[0;34m\u001b[0m\n\u001b[1;32m      1\u001b[0m \u001b[0;32mfor\u001b[0m \u001b[0mresponse\u001b[0m \u001b[0;32min\u001b[0m \u001b[0mresponses\u001b[0m\u001b[0;34m:\u001b[0m\u001b[0;34m\u001b[0m\u001b[0;34m\u001b[0m\u001b[0m\n\u001b[0;32m----> 2\u001b[0;31m     \u001b[0;32mfor\u001b[0m \u001b[0mitem\u001b[0m \u001b[0;32min\u001b[0m \u001b[0mresponse\u001b[0m\u001b[0;34m:\u001b[0m\u001b[0;34m\u001b[0m\u001b[0;34m\u001b[0m\u001b[0m\n\u001b[0m\u001b[1;32m      3\u001b[0m         \u001b[0mprint\u001b[0m\u001b[0;34m(\u001b[0m\u001b[0mitem\u001b[0m\u001b[0;34m.\u001b[0m\u001b[0mdata\u001b[0m\u001b[0;34m)\u001b[0m\u001b[0;34m\u001b[0m\u001b[0;34m\u001b[0m\u001b[0m\n",
      "\u001b[0;32m~/.venvs/twittersmh-oor3PyLr-py3.8/lib/python3.8/site-packages/tweepy/pagination.py\u001b[0m in \u001b[0;36m__next__\u001b[0;34m(self)\u001b[0m\n\u001b[1;32m     94\u001b[0m             \u001b[0mself\u001b[0m\u001b[0;34m.\u001b[0m\u001b[0mkwargs\u001b[0m\u001b[0;34m[\u001b[0m\u001b[0;34m\"pagination_token\"\u001b[0m\u001b[0;34m]\u001b[0m \u001b[0;34m=\u001b[0m \u001b[0mpagination_token\u001b[0m\u001b[0;34m\u001b[0m\u001b[0;34m\u001b[0m\u001b[0m\n\u001b[1;32m     95\u001b[0m \u001b[0;34m\u001b[0m\u001b[0m\n\u001b[0;32m---> 96\u001b[0;31m         \u001b[0mresponse\u001b[0m \u001b[0;34m=\u001b[0m \u001b[0mself\u001b[0m\u001b[0;34m.\u001b[0m\u001b[0mmethod\u001b[0m\u001b[0;34m(\u001b[0m\u001b[0;34m*\u001b[0m\u001b[0mself\u001b[0m\u001b[0;34m.\u001b[0m\u001b[0margs\u001b[0m\u001b[0;34m,\u001b[0m \u001b[0;34m**\u001b[0m\u001b[0mself\u001b[0m\u001b[0;34m.\u001b[0m\u001b[0mkwargs\u001b[0m\u001b[0;34m)\u001b[0m\u001b[0;34m\u001b[0m\u001b[0;34m\u001b[0m\u001b[0m\n\u001b[0m\u001b[1;32m     97\u001b[0m \u001b[0;34m\u001b[0m\u001b[0m\n\u001b[1;32m     98\u001b[0m         \u001b[0mself\u001b[0m\u001b[0;34m.\u001b[0m\u001b[0mprevious_token\u001b[0m \u001b[0;34m=\u001b[0m \u001b[0mresponse\u001b[0m\u001b[0;34m.\u001b[0m\u001b[0mmeta\u001b[0m\u001b[0;34m.\u001b[0m\u001b[0mget\u001b[0m\u001b[0;34m(\u001b[0m\u001b[0;34m\"previous_token\"\u001b[0m\u001b[0;34m)\u001b[0m\u001b[0;34m\u001b[0m\u001b[0;34m\u001b[0m\u001b[0m\n",
      "\u001b[0;32m~/.venvs/twittersmh-oor3PyLr-py3.8/lib/python3.8/site-packages/tweepy/client.py\u001b[0m in \u001b[0;36msearch_all_tweets\u001b[0;34m(self, query, **params)\u001b[0m\n\u001b[1;32m    697\u001b[0m         \"\"\"\n\u001b[1;32m    698\u001b[0m         \u001b[0mparams\u001b[0m\u001b[0;34m[\u001b[0m\u001b[0;34m\"query\"\u001b[0m\u001b[0;34m]\u001b[0m \u001b[0;34m=\u001b[0m \u001b[0mquery\u001b[0m\u001b[0;34m\u001b[0m\u001b[0;34m\u001b[0m\u001b[0m\n\u001b[0;32m--> 699\u001b[0;31m         return self._make_request(\n\u001b[0m\u001b[1;32m    700\u001b[0m             \u001b[0;34m\"GET\"\u001b[0m\u001b[0;34m,\u001b[0m \u001b[0;34m\"/2/tweets/search/all\"\u001b[0m\u001b[0;34m,\u001b[0m \u001b[0mparams\u001b[0m\u001b[0;34m=\u001b[0m\u001b[0mparams\u001b[0m\u001b[0;34m,\u001b[0m\u001b[0;34m\u001b[0m\u001b[0;34m\u001b[0m\u001b[0m\n\u001b[1;32m    701\u001b[0m             endpoint_parameters=(\n",
      "\u001b[0;32m~/.venvs/twittersmh-oor3PyLr-py3.8/lib/python3.8/site-packages/tweepy/client.py\u001b[0m in \u001b[0;36m_make_request\u001b[0;34m(self, method, route, params, endpoint_parameters, json, data_type, user_auth)\u001b[0m\n\u001b[1;32m    164\u001b[0m                 \u001b[0mlog\u001b[0m\u001b[0;34m.\u001b[0m\u001b[0mwarn\u001b[0m\u001b[0;34m(\u001b[0m\u001b[0;34mf\"Unexpected parameter: {param_name}\"\u001b[0m\u001b[0;34m)\u001b[0m\u001b[0;34m\u001b[0m\u001b[0;34m\u001b[0m\u001b[0m\n\u001b[1;32m    165\u001b[0m \u001b[0;34m\u001b[0m\u001b[0m\n\u001b[0;32m--> 166\u001b[0;31m         response = self.request(method, route, params=request_params,\n\u001b[0m\u001b[1;32m    167\u001b[0m                                 json=json, user_auth=user_auth)\n\u001b[1;32m    168\u001b[0m \u001b[0;34m\u001b[0m\u001b[0m\n",
      "\u001b[0;32m~/.venvs/twittersmh-oor3PyLr-py3.8/lib/python3.8/site-packages/tweepy/client.py\u001b[0m in \u001b[0;36mrequest\u001b[0;34m(self, method, route, params, json, user_auth)\u001b[0m\n\u001b[1;32m    133\u001b[0m                             \u001b[0;34mf\"Sleeping for {sleep_time} seconds.\"\u001b[0m\u001b[0;34m\u001b[0m\u001b[0;34m\u001b[0m\u001b[0m\n\u001b[1;32m    134\u001b[0m                         )\n\u001b[0;32m--> 135\u001b[0;31m                         \u001b[0mtime\u001b[0m\u001b[0;34m.\u001b[0m\u001b[0msleep\u001b[0m\u001b[0;34m(\u001b[0m\u001b[0msleep_time\u001b[0m\u001b[0;34m)\u001b[0m\u001b[0;34m\u001b[0m\u001b[0;34m\u001b[0m\u001b[0m\n\u001b[0m\u001b[1;32m    136\u001b[0m                     \u001b[0;32mreturn\u001b[0m \u001b[0mself\u001b[0m\u001b[0;34m.\u001b[0m\u001b[0mrequest\u001b[0m\u001b[0;34m(\u001b[0m\u001b[0mmethod\u001b[0m\u001b[0;34m,\u001b[0m \u001b[0mroute\u001b[0m\u001b[0;34m,\u001b[0m \u001b[0mparams\u001b[0m\u001b[0;34m,\u001b[0m \u001b[0mjson\u001b[0m\u001b[0;34m,\u001b[0m \u001b[0muser_auth\u001b[0m\u001b[0;34m)\u001b[0m\u001b[0;34m\u001b[0m\u001b[0;34m\u001b[0m\u001b[0m\n\u001b[1;32m    137\u001b[0m                 \u001b[0;32melse\u001b[0m\u001b[0;34m:\u001b[0m\u001b[0;34m\u001b[0m\u001b[0;34m\u001b[0m\u001b[0m\n",
      "\u001b[0;31mKeyboardInterrupt\u001b[0m: "
     ]
    }
   ],
   "source": [
    "for response in responses:\n",
    "    for item in response:\n",
    "        print(item.data)"
   ]
  },
  {
   "cell_type": "code",
   "execution_count": null,
   "metadata": {},
   "outputs": [],
   "source": [
    "thread_df = pd.DataFrame(threads)\n",
    "thread_df.groupby([\"conversation_id\"])\n",
    "\n",
    "thread_df.to_csv(\n",
    "    \"/home/lukel/projekte/twittersmh/data/tweepy_corpus_threads.csv\",\n",
    "    mode=\"a\",\n",
    "    index=False,\n",
    "    header=False,\n",
    "    sep=\";\",\n",
    ")"
   ]
  }
 ],
 "metadata": {
  "interpreter": {
   "hash": "2c1b862ab0c53acd8a1b5984d3d9467e41ce395c781146e97fe529c3c9db228f"
  },
  "kernelspec": {
   "display_name": "Python 3.8.10 64-bit ('twittersmh-oor3PyLr-py3.8': poetry)",
   "language": "python",
   "name": "python3"
  },
  "language_info": {
   "codemirror_mode": {
    "name": "ipython",
    "version": 3
   },
   "file_extension": ".py",
   "mimetype": "text/x-python",
   "name": "python",
   "nbconvert_exporter": "python",
   "pygments_lexer": "ipython3",
   "version": "3.8.10"
  },
  "orig_nbformat": 4
 },
 "nbformat": 4,
 "nbformat_minor": 2
}
